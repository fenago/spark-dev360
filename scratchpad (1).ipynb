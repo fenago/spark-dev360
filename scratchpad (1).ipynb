{
 "cells": [
  {
   "cell_type": "code",
   "execution_count": 3,
   "id": "d2c2a8f6",
   "metadata": {},
   "outputs": [
    {
     "data": {
      "text/plain": [
       "\u001b[32mimport \u001b[39m\u001b[36mscala.reflect.runtime.universe._ \n",
       "\u001b[39m"
      ]
     },
     "execution_count": 3,
     "metadata": {},
     "output_type": "execute_result"
    }
   ],
   "source": [
    "import scala.reflect.runtime.universe._ "
   ]
  },
  {
   "cell_type": "code",
   "execution_count": 4,
   "id": "8beac452",
   "metadata": {},
   "outputs": [
    {
     "data": {
      "text/plain": [
       "\u001b[36mexpr\u001b[39m: \u001b[32mExpr\u001b[39m[\u001b[32mUnit\u001b[39m] = Expr[Unit]({\n",
       "  class Car extends AnyRef {\n",
       "    def <init>() = {\n",
       "      super.<init>();\n",
       "      ()\n",
       "    };\n",
       "    val segment = \"SUV\";\n",
       "    def name = \"Q7\"\n",
       "  };\n",
       "  ()\n",
       "})"
      ]
     },
     "execution_count": 4,
     "metadata": {},
     "output_type": "execute_result"
    }
   ],
   "source": [
    "val expr = reify {class Car {val segment=\"SUV\"; def name =\"Q7\"}}"
   ]
  },
  {
   "cell_type": "code",
   "execution_count": 5,
   "id": "3b91ed50",
   "metadata": {},
   "outputs": [
    {
     "data": {
      "text/plain": [
       "\u001b[36mres4\u001b[39m: \u001b[32mString\u001b[39m = \u001b[32m\"Block(List(ClassDef(Modifiers(), TypeName(\\\"Car\\\"), List(), Template(List(Ident(TypeName(\\\"AnyRef\\\"))), noSelfType, List(DefDef(Modifiers(), termNames.CONSTRUCTOR, List(), List(List()), TypeTree(), Block(List(Apply(Select(Super(This(typeNames.EMPTY), typeNames.EMPTY), termNames.CONSTRUCTOR), List())), Literal(Constant(())))), ValDef(Modifiers(), TermName(\\\"segment\\\"), TypeTree(), Literal(Constant(\\\"SUV\\\"))), DefDef(Modifiers(), TermName(\\\"name\\\"), List(), List(), TypeTree(), Literal(Constant(\\\"Q7\\\"))))))), Literal(Constant(())))\"\u001b[39m"
      ]
     },
     "execution_count": 5,
     "metadata": {},
     "output_type": "execute_result"
    }
   ],
   "source": [
    "showRaw(expr.tree)"
   ]
  },
  {
   "cell_type": "code",
   "execution_count": 6,
   "id": "78fe7d93",
   "metadata": {},
   "outputs": [
    {
     "data": {
      "text/plain": [
       "\u001b[36ma\u001b[39m: \u001b[32mInt\u001b[39m = \u001b[32m10\u001b[39m"
      ]
     },
     "execution_count": 6,
     "metadata": {},
     "output_type": "execute_result"
    }
   ],
   "source": [
    "val a = 10"
   ]
  },
  {
   "cell_type": "code",
   "execution_count": 6,
   "id": "d9bd49f0",
   "metadata": {},
   "outputs": [
    {
     "name": "stderr",
     "output_type": "stream",
     "text": [
      "cmd6.sc:1: reassignment to val\n",
      "val res6 = a = 12\n",
      "             ^Compilation Failed"
     ]
    },
    {
     "ename": "",
     "evalue": "",
     "output_type": "error",
     "traceback": [
      "Compilation Failed"
     ]
    }
   ],
   "source": [
    "a = 12"
   ]
  },
  {
   "cell_type": "code",
   "execution_count": 7,
   "id": "ebfc9491",
   "metadata": {},
   "outputs": [
    {
     "data": {
      "text/html": [
       "<div class=\"jp-RenderedText\">\n",
       "<pre><code><span style=\"color: rgb(0, 187, 187)\"><span class=\"ansi-cyan-fg\">b</span></span>: <span style=\"color: rgb(0, 187, 0)\"><span class=\"ansi-green-fg\">Int</span></span> = <style>@keyframes fadein { from { opacity: 0; } to { opacity: 1; } }</style><span style=\"animation: fadein 2s;\"><span style=\"color: rgb(0, 187, 0)\"><span class=\"ansi-green-fg\">12</span></span></span></code></pre>\n",
       "</div>"
      ],
      "text/plain": [
       "\u001b[36mb\u001b[39m: \u001b[32mInt\u001b[39m = \u001b[32m12\u001b[39m"
      ]
     },
     "metadata": {},
     "output_type": "display_data"
    }
   ],
   "source": [
    "var b = 10"
   ]
  },
  {
   "cell_type": "code",
   "execution_count": 8,
   "id": "ea031056",
   "metadata": {},
   "outputs": [],
   "source": [
    "b = 12"
   ]
  },
  {
   "cell_type": "code",
   "execution_count": 9,
   "id": "64d7695f",
   "metadata": {},
   "outputs": [
    {
     "data": {
      "text/plain": [
       "\u001b[36mres8\u001b[39m: \u001b[32mInt\u001b[39m = \u001b[32m12\u001b[39m"
      ]
     },
     "execution_count": 9,
     "metadata": {},
     "output_type": "execute_result"
    }
   ],
   "source": [
    "b"
   ]
  },
  {
   "cell_type": "code",
   "execution_count": 10,
   "id": "70dc3352",
   "metadata": {},
   "outputs": [
    {
     "data": {
      "text/plain": [
       "\u001b[36ma\u001b[39m: \u001b[32mString\u001b[39m = \u001b[32m\"I can be inferred\"\u001b[39m"
      ]
     },
     "execution_count": 10,
     "metadata": {},
     "output_type": "execute_result"
    }
   ],
   "source": [
    "val a: String = \"I can be inferred\""
   ]
  },
  {
   "cell_type": "code",
   "execution_count": 11,
   "id": "fe481b45",
   "metadata": {},
   "outputs": [
    {
     "data": {
      "text/plain": [
       "\u001b[36mnum\u001b[39m: \u001b[32mInt\u001b[39m = \u001b[32m2\u001b[39m"
      ]
     },
     "execution_count": 11,
     "metadata": {},
     "output_type": "execute_result"
    }
   ],
   "source": [
    "val num = 002"
   ]
  },
  {
   "cell_type": "code",
   "execution_count": 12,
   "id": "1d60b6e9",
   "metadata": {},
   "outputs": [
    {
     "data": {
      "text/plain": [
       "\u001b[36mres11\u001b[39m: \u001b[32mInt\u001b[39m = \u001b[32m255\u001b[39m"
      ]
     },
     "execution_count": 12,
     "metadata": {},
     "output_type": "execute_result"
    }
   ],
   "source": [
    "0xFF"
   ]
  },
  {
   "cell_type": "code",
   "execution_count": 14,
   "id": "7ae31652",
   "metadata": {},
   "outputs": [
    {
     "data": {
      "text/plain": [
       "\u001b[36maByte\u001b[39m: \u001b[32mInt\u001b[39m = \u001b[32m123456\u001b[39m"
      ]
     },
     "execution_count": 14,
     "metadata": {},
     "output_type": "execute_result"
    }
   ],
   "source": [
    "val aByte = 123456"
   ]
  },
  {
   "cell_type": "code",
   "execution_count": 14,
   "id": "b7f5b622",
   "metadata": {},
   "outputs": [
    {
     "name": "stderr",
     "output_type": "stream",
     "text": [
      "(console):1: integer number too large\n",
      "val outOfRange = 12345678901234567\n",
      "                 ^"
     ]
    },
    {
     "ename": "",
     "evalue": "",
     "output_type": "error",
     "traceback": [
      "(console):1: integer number too large\nval outOfRange = 12345678901234567\n                 ^"
     ]
    }
   ],
   "source": [
    "val outOfRange = 12345678901234567"
   ]
  },
  {
   "cell_type": "code",
   "execution_count": 15,
   "id": "6e15e6f7",
   "metadata": {},
   "outputs": [
    {
     "data": {
      "text/plain": [
       "\u001b[36maLong\u001b[39m: \u001b[32mLong\u001b[39m = \u001b[32m909L\u001b[39m"
      ]
     },
     "execution_count": 15,
     "metadata": {},
     "output_type": "execute_result"
    }
   ],
   "source": [
    "val aLong = 909L"
   ]
  },
  {
   "cell_type": "code",
   "execution_count": 16,
   "id": "66c03f5a",
   "metadata": {},
   "outputs": [
    {
     "data": {
      "text/plain": [
       "\u001b[36manotherLong\u001b[39m: \u001b[32mLong\u001b[39m = \u001b[32m1L\u001b[39m"
      ]
     },
     "execution_count": 16,
     "metadata": {},
     "output_type": "execute_result"
    }
   ],
   "source": [
    "val anotherLong: Long = 1"
   ]
  },
  {
   "cell_type": "code",
   "execution_count": 17,
   "id": "d396a76d",
   "metadata": {},
   "outputs": [
    {
     "data": {
      "text/plain": [
       "\u001b[36maByte\u001b[39m: \u001b[32mByte\u001b[39m = \u001b[32m1\u001b[39m"
      ]
     },
     "execution_count": 17,
     "metadata": {},
     "output_type": "execute_result"
    }
   ],
   "source": [
    "val aByte: Byte = 1"
   ]
  },
  {
   "cell_type": "code",
   "execution_count": 18,
   "id": "b6963d5c",
   "metadata": {},
   "outputs": [
    {
     "data": {
      "text/plain": [
       "\u001b[36maShort\u001b[39m: \u001b[32mShort\u001b[39m = \u001b[32m1\u001b[39m"
      ]
     },
     "execution_count": 18,
     "metadata": {},
     "output_type": "execute_result"
    }
   ],
   "source": [
    "val aShort: Short = 1"
   ]
  },
  {
   "cell_type": "code",
   "execution_count": 22,
   "id": "feb8437f",
   "metadata": {},
   "outputs": [
    {
     "data": {
      "text/plain": [
       "\u001b[36ma\u001b[39m: \u001b[32mDouble\u001b[39m = \u001b[32m1.0\u001b[39m"
      ]
     },
     "execution_count": 22,
     "metadata": {},
     "output_type": "execute_result"
    }
   ],
   "source": [
    "val a = 1.0"
   ]
  },
  {
   "cell_type": "code",
   "execution_count": 23,
   "id": "b6ca9ff9",
   "metadata": {},
   "outputs": [
    {
     "data": {
      "text/plain": [
       "\u001b[36ma\u001b[39m: \u001b[32mFloat\u001b[39m = \u001b[32m1.0F\u001b[39m"
      ]
     },
     "execution_count": 23,
     "metadata": {},
     "output_type": "execute_result"
    }
   ],
   "source": [
    "val a = 1.0F"
   ]
  },
  {
   "cell_type": "code",
   "execution_count": 26,
   "id": "0670d27d",
   "metadata": {},
   "outputs": [
    {
     "data": {
      "text/plain": [
       "\u001b[36ma\u001b[39m: \u001b[32mFloat\u001b[39m = \u001b[32m2.0F\u001b[39m"
      ]
     },
     "execution_count": 26,
     "metadata": {},
     "output_type": "execute_result"
    }
   ],
   "source": [
    "val a = 2.0f"
   ]
  },
  {
   "cell_type": "code",
   "execution_count": 27,
   "id": "b7b6030f",
   "metadata": {},
   "outputs": [
    {
     "data": {
      "text/plain": [
       "\u001b[36maTuple\u001b[39m: (\u001b[32mString\u001b[39m, \u001b[32mString\u001b[39m, \u001b[32mString\u001b[39m) = (\u001b[32m\"Val1\"\u001b[39m, \u001b[32m\"Val2\"\u001b[39m, \u001b[32m\"Val3\"\u001b[39m)"
      ]
     },
     "execution_count": 27,
     "metadata": {},
     "output_type": "execute_result"
    }
   ],
   "source": [
    "val aTuple = (\"Val1\",\"Val2\",\"Val3\")"
   ]
  },
  {
   "cell_type": "code",
   "execution_count": 29,
   "id": "097a23b0",
   "metadata": {},
   "outputs": [
    {
     "name": "stdout",
     "output_type": "stream",
     "text": [
      "Value 1 is: Val2\n"
     ]
    }
   ],
   "source": [
    "println(\"Value 1 is: \" + aTuple._2)"
   ]
  },
  {
   "cell_type": "code",
   "execution_count": 30,
   "id": "47f35ebb",
   "metadata": {},
   "outputs": [
    {
     "data": {
      "text/plain": [
       "\u001b[36msmartPair\u001b[39m: (\u001b[32mInt\u001b[39m, \u001b[32mString\u001b[39m) = (\u001b[32m1\u001b[39m, \u001b[32m\"One\"\u001b[39m)"
      ]
     },
     "execution_count": 30,
     "metadata": {},
     "output_type": "execute_result"
    }
   ],
   "source": [
    "val smartPair = 1 -> \"One\""
   ]
  },
  {
   "cell_type": "code",
   "execution_count": 30,
   "id": "5119680e",
   "metadata": {},
   "outputs": [
    {
     "name": "stderr",
     "output_type": "stream",
     "text": [
      "(console):1: ';' expected but '=>' found.\n",
      "Int => String\n",
      "    ^"
     ]
    },
    {
     "ename": "",
     "evalue": "",
     "output_type": "error",
     "traceback": [
      "(console):1: ';' expected but '=>' found.\nInt => String\n    ^"
     ]
    }
   ],
   "source": [
    "Int => String"
   ]
  },
  {
   "cell_type": "code",
   "execution_count": null,
   "id": "60591df1",
   "metadata": {},
   "outputs": [],
   "source": []
  }
 ],
 "metadata": {
  "kernelspec": {
   "display_name": "Scala (2.13)",
   "language": "scala",
   "name": "scala213"
  },
  "language_info": {
   "codemirror_mode": "text/x-scala",
   "file_extension": ".sc",
   "mimetype": "text/x-scala",
   "name": "scala",
   "nbconvert_exporter": "script",
   "version": "2.13.3"
  }
 },
 "nbformat": 4,
 "nbformat_minor": 5
}
